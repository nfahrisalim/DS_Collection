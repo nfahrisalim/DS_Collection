{
  "nbformat": 4,
  "nbformat_minor": 0,
  "metadata": {
    "colab": {
      "provenance": [],
      "mount_file_id": "1GMoWDNX7e7wgk5WByITmCA9JLMorYOAk",
      "authorship_tag": "ABX9TyPv4SQ4bAAL3WZSwbTeePlV",
      "include_colab_link": true
    },
    "kernelspec": {
      "name": "python3",
      "display_name": "Python 3"
    },
    "language_info": {
      "name": "python"
    }
  },
  "cells": [
    {
      "cell_type": "markdown",
      "metadata": {
        "id": "view-in-github",
        "colab_type": "text"
      },
      "source": [
        "<a href=\"https://colab.research.google.com/github/nfahrisalim/DS_Collection/blob/main/Feature_Scaling.ipynb\" target=\"_parent\"><img src=\"https://colab.research.google.com/assets/colab-badge.svg\" alt=\"Open In Colab\"/></a>"
      ]
    },
    {
      "cell_type": "markdown",
      "source": [
        "### **Ngulik Harga Rumah di Boston 🏡**\n",
        "\n",
        "Dataset ini berisi data tentang **perumahan di Boston, MA**, yang dikumpulkan dari U.S. Census Service. Tiap kolom merepresentasikan faktor yang bisa memengaruhi harga rumah.  \n",
        "\n",
        "### **📊 Deskripsi Kolom**  \n",
        "🔹 **CRIM** → Tingkat kejahatan per kapita di tiap kota.  \n",
        "🔹 **ZN** → Persentase lahan hunian untuk lot > 25.000 sqft.  \n",
        "🔹 **INDUS** → Persentase area bisnis non-ritel di tiap kota.  \n",
        "🔹 **CHAS** → Dummy variabel untuk Sungai Charles (**1 = dekat sungai, 0 = jauh dari sungai**).  \n",
        "🔹 **NOX** → Konsentrasi nitrogen oksida (polusi udara).  \n",
        "🔹 **RM** → Rata-rata jumlah kamar per rumah.  \n",
        "🔹 **AGE** → Persentase rumah yang dibangun sebelum tahun 1940.  \n",
        "🔹 **DIS** → Jarak rata-rata ke 5 pusat kerja di Boston.  \n",
        "🔹 **RAD** → Indeks akses ke jalan raya radial.  \n",
        "🔹 **TAX** → Tarif pajak properti per $10.000.  \n",
        "🔹 **PTRATIO** → Rasio murid per guru di tiap kota.  \n",
        "🔹 **B** → Ukuran proporsi populasi kulit hitam di tiap kota.  \n",
        "🔹 **LSTAT** → Persentase populasi dengan status sosial ekonomi rendah.  \n",
        "🔹 **MEDV** → **Target** → Harga median rumah (dalam ribuan dolar).  \n",
        "\n"
      ],
      "metadata": {
        "id": "M26-CLtgZ-u3"
      }
    },
    {
      "cell_type": "code",
      "execution_count": 1,
      "metadata": {
        "id": "wh6VEIZRZ4rx"
      },
      "outputs": [],
      "source": [
        "import pandas as pd\n",
        "import numpy as np\n",
        "import seaborn as sns\n",
        "import matplotlib.pyplot as plt\n",
        "from sklearn.model_selection import train_test_split\n",
        "from sklearn.preprocessing import MinMaxScaler, StandardScaler, RobustScaler\n",
        "from sklearn.neighbors import KNeighborsRegressor\n",
        "from sklearn.svm import SVR\n",
        "from sklearn.tree import DecisionTreeRegressor\n",
        "from sklearn.pipeline import make_pipeline\n",
        "from sklearn.metrics import mean_squared_error"
      ]
    },
    {
      "cell_type": "code",
      "source": [
        "column_names = ['CRIM', 'ZN', 'INDUS', 'CHAS', 'NOX', 'RM', 'AGE', 'DIS', 'RAD', 'TAX', 'PTRATIO', 'B', 'LSTAT', 'MEDV']\n",
        "data = pd.read_csv('/content/housing.csv', header=None, delimiter=r\"\\s+\", names=column_names)\n",
        "\n",
        "print(data.head(5))\n"
      ],
      "metadata": {
        "colab": {
          "base_uri": "https://localhost:8080/"
        },
        "id": "wd6_lMwcaYMt",
        "outputId": "47196dc6-bf90-49cd-cbba-1fcfa6040a3b"
      },
      "execution_count": 5,
      "outputs": [
        {
          "output_type": "stream",
          "name": "stdout",
          "text": [
            "      CRIM    ZN  INDUS  CHAS    NOX     RM   AGE     DIS  RAD    TAX  \\\n",
            "0  0.00632  18.0   2.31     0  0.538  6.575  65.2  4.0900    1  296.0   \n",
            "1  0.02731   0.0   7.07     0  0.469  6.421  78.9  4.9671    2  242.0   \n",
            "2  0.02729   0.0   7.07     0  0.469  7.185  61.1  4.9671    2  242.0   \n",
            "3  0.03237   0.0   2.18     0  0.458  6.998  45.8  6.0622    3  222.0   \n",
            "4  0.06905   0.0   2.18     0  0.458  7.147  54.2  6.0622    3  222.0   \n",
            "\n",
            "   PTRATIO       B  LSTAT  MEDV  \n",
            "0     15.3  396.90   4.98  24.0  \n",
            "1     17.8  396.90   9.14  21.6  \n",
            "2     17.8  392.83   4.03  34.7  \n",
            "3     18.7  394.63   2.94  33.4  \n",
            "4     18.7  396.90   5.33  36.2  \n"
          ]
        }
      ]
    },
    {
      "cell_type": "code",
      "source": [
        "data.info()"
      ],
      "metadata": {
        "colab": {
          "base_uri": "https://localhost:8080/"
        },
        "id": "N_QjdJdVcQ8Y",
        "outputId": "af5270a6-f568-41d3-e367-d84620baed60"
      },
      "execution_count": 6,
      "outputs": [
        {
          "output_type": "stream",
          "name": "stdout",
          "text": [
            "<class 'pandas.core.frame.DataFrame'>\n",
            "RangeIndex: 506 entries, 0 to 505\n",
            "Data columns (total 14 columns):\n",
            " #   Column   Non-Null Count  Dtype  \n",
            "---  ------   --------------  -----  \n",
            " 0   CRIM     506 non-null    float64\n",
            " 1   ZN       506 non-null    float64\n",
            " 2   INDUS    506 non-null    float64\n",
            " 3   CHAS     506 non-null    int64  \n",
            " 4   NOX      506 non-null    float64\n",
            " 5   RM       506 non-null    float64\n",
            " 6   AGE      506 non-null    float64\n",
            " 7   DIS      506 non-null    float64\n",
            " 8   RAD      506 non-null    int64  \n",
            " 9   TAX      506 non-null    float64\n",
            " 10  PTRATIO  506 non-null    float64\n",
            " 11  B        506 non-null    float64\n",
            " 12  LSTAT    506 non-null    float64\n",
            " 13  MEDV     506 non-null    float64\n",
            "dtypes: float64(12), int64(2)\n",
            "memory usage: 55.5 KB\n"
          ]
        }
      ]
    },
    {
      "cell_type": "code",
      "source": [
        "data.describe().transpose()"
      ],
      "metadata": {
        "colab": {
          "base_uri": "https://localhost:8080/",
          "height": 508
        },
        "id": "8s8zcNJsc7wT",
        "outputId": "35e8eb9d-b018-445c-fdb6-247fe23ae537"
      },
      "execution_count": 7,
      "outputs": [
        {
          "output_type": "execute_result",
          "data": {
            "text/plain": [
              "         count        mean         std        min         25%        50%  \\\n",
              "CRIM     506.0    3.613524    8.601545    0.00632    0.082045    0.25651   \n",
              "ZN       506.0   11.363636   23.322453    0.00000    0.000000    0.00000   \n",
              "INDUS    506.0   11.136779    6.860353    0.46000    5.190000    9.69000   \n",
              "CHAS     506.0    0.069170    0.253994    0.00000    0.000000    0.00000   \n",
              "NOX      506.0    0.554695    0.115878    0.38500    0.449000    0.53800   \n",
              "RM       506.0    6.284634    0.702617    3.56100    5.885500    6.20850   \n",
              "AGE      506.0   68.574901   28.148861    2.90000   45.025000   77.50000   \n",
              "DIS      506.0    3.795043    2.105710    1.12960    2.100175    3.20745   \n",
              "RAD      506.0    9.549407    8.707259    1.00000    4.000000    5.00000   \n",
              "TAX      506.0  408.237154  168.537116  187.00000  279.000000  330.00000   \n",
              "PTRATIO  506.0   18.455534    2.164946   12.60000   17.400000   19.05000   \n",
              "B        506.0  356.674032   91.294864    0.32000  375.377500  391.44000   \n",
              "LSTAT    506.0   12.653063    7.141062    1.73000    6.950000   11.36000   \n",
              "MEDV     506.0   22.532806    9.197104    5.00000   17.025000   21.20000   \n",
              "\n",
              "                75%       max  \n",
              "CRIM       3.677083   88.9762  \n",
              "ZN        12.500000  100.0000  \n",
              "INDUS     18.100000   27.7400  \n",
              "CHAS       0.000000    1.0000  \n",
              "NOX        0.624000    0.8710  \n",
              "RM         6.623500    8.7800  \n",
              "AGE       94.075000  100.0000  \n",
              "DIS        5.188425   12.1265  \n",
              "RAD       24.000000   24.0000  \n",
              "TAX      666.000000  711.0000  \n",
              "PTRATIO   20.200000   22.0000  \n",
              "B        396.225000  396.9000  \n",
              "LSTAT     16.955000   37.9700  \n",
              "MEDV      25.000000   50.0000  "
            ],
            "text/html": [
              "\n",
              "  <div id=\"df-3183dfd1-ad25-4718-8edc-d76cddcedd59\" class=\"colab-df-container\">\n",
              "    <div>\n",
              "<style scoped>\n",
              "    .dataframe tbody tr th:only-of-type {\n",
              "        vertical-align: middle;\n",
              "    }\n",
              "\n",
              "    .dataframe tbody tr th {\n",
              "        vertical-align: top;\n",
              "    }\n",
              "\n",
              "    .dataframe thead th {\n",
              "        text-align: right;\n",
              "    }\n",
              "</style>\n",
              "<table border=\"1\" class=\"dataframe\">\n",
              "  <thead>\n",
              "    <tr style=\"text-align: right;\">\n",
              "      <th></th>\n",
              "      <th>count</th>\n",
              "      <th>mean</th>\n",
              "      <th>std</th>\n",
              "      <th>min</th>\n",
              "      <th>25%</th>\n",
              "      <th>50%</th>\n",
              "      <th>75%</th>\n",
              "      <th>max</th>\n",
              "    </tr>\n",
              "  </thead>\n",
              "  <tbody>\n",
              "    <tr>\n",
              "      <th>CRIM</th>\n",
              "      <td>506.0</td>\n",
              "      <td>3.613524</td>\n",
              "      <td>8.601545</td>\n",
              "      <td>0.00632</td>\n",
              "      <td>0.082045</td>\n",
              "      <td>0.25651</td>\n",
              "      <td>3.677083</td>\n",
              "      <td>88.9762</td>\n",
              "    </tr>\n",
              "    <tr>\n",
              "      <th>ZN</th>\n",
              "      <td>506.0</td>\n",
              "      <td>11.363636</td>\n",
              "      <td>23.322453</td>\n",
              "      <td>0.00000</td>\n",
              "      <td>0.000000</td>\n",
              "      <td>0.00000</td>\n",
              "      <td>12.500000</td>\n",
              "      <td>100.0000</td>\n",
              "    </tr>\n",
              "    <tr>\n",
              "      <th>INDUS</th>\n",
              "      <td>506.0</td>\n",
              "      <td>11.136779</td>\n",
              "      <td>6.860353</td>\n",
              "      <td>0.46000</td>\n",
              "      <td>5.190000</td>\n",
              "      <td>9.69000</td>\n",
              "      <td>18.100000</td>\n",
              "      <td>27.7400</td>\n",
              "    </tr>\n",
              "    <tr>\n",
              "      <th>CHAS</th>\n",
              "      <td>506.0</td>\n",
              "      <td>0.069170</td>\n",
              "      <td>0.253994</td>\n",
              "      <td>0.00000</td>\n",
              "      <td>0.000000</td>\n",
              "      <td>0.00000</td>\n",
              "      <td>0.000000</td>\n",
              "      <td>1.0000</td>\n",
              "    </tr>\n",
              "    <tr>\n",
              "      <th>NOX</th>\n",
              "      <td>506.0</td>\n",
              "      <td>0.554695</td>\n",
              "      <td>0.115878</td>\n",
              "      <td>0.38500</td>\n",
              "      <td>0.449000</td>\n",
              "      <td>0.53800</td>\n",
              "      <td>0.624000</td>\n",
              "      <td>0.8710</td>\n",
              "    </tr>\n",
              "    <tr>\n",
              "      <th>RM</th>\n",
              "      <td>506.0</td>\n",
              "      <td>6.284634</td>\n",
              "      <td>0.702617</td>\n",
              "      <td>3.56100</td>\n",
              "      <td>5.885500</td>\n",
              "      <td>6.20850</td>\n",
              "      <td>6.623500</td>\n",
              "      <td>8.7800</td>\n",
              "    </tr>\n",
              "    <tr>\n",
              "      <th>AGE</th>\n",
              "      <td>506.0</td>\n",
              "      <td>68.574901</td>\n",
              "      <td>28.148861</td>\n",
              "      <td>2.90000</td>\n",
              "      <td>45.025000</td>\n",
              "      <td>77.50000</td>\n",
              "      <td>94.075000</td>\n",
              "      <td>100.0000</td>\n",
              "    </tr>\n",
              "    <tr>\n",
              "      <th>DIS</th>\n",
              "      <td>506.0</td>\n",
              "      <td>3.795043</td>\n",
              "      <td>2.105710</td>\n",
              "      <td>1.12960</td>\n",
              "      <td>2.100175</td>\n",
              "      <td>3.20745</td>\n",
              "      <td>5.188425</td>\n",
              "      <td>12.1265</td>\n",
              "    </tr>\n",
              "    <tr>\n",
              "      <th>RAD</th>\n",
              "      <td>506.0</td>\n",
              "      <td>9.549407</td>\n",
              "      <td>8.707259</td>\n",
              "      <td>1.00000</td>\n",
              "      <td>4.000000</td>\n",
              "      <td>5.00000</td>\n",
              "      <td>24.000000</td>\n",
              "      <td>24.0000</td>\n",
              "    </tr>\n",
              "    <tr>\n",
              "      <th>TAX</th>\n",
              "      <td>506.0</td>\n",
              "      <td>408.237154</td>\n",
              "      <td>168.537116</td>\n",
              "      <td>187.00000</td>\n",
              "      <td>279.000000</td>\n",
              "      <td>330.00000</td>\n",
              "      <td>666.000000</td>\n",
              "      <td>711.0000</td>\n",
              "    </tr>\n",
              "    <tr>\n",
              "      <th>PTRATIO</th>\n",
              "      <td>506.0</td>\n",
              "      <td>18.455534</td>\n",
              "      <td>2.164946</td>\n",
              "      <td>12.60000</td>\n",
              "      <td>17.400000</td>\n",
              "      <td>19.05000</td>\n",
              "      <td>20.200000</td>\n",
              "      <td>22.0000</td>\n",
              "    </tr>\n",
              "    <tr>\n",
              "      <th>B</th>\n",
              "      <td>506.0</td>\n",
              "      <td>356.674032</td>\n",
              "      <td>91.294864</td>\n",
              "      <td>0.32000</td>\n",
              "      <td>375.377500</td>\n",
              "      <td>391.44000</td>\n",
              "      <td>396.225000</td>\n",
              "      <td>396.9000</td>\n",
              "    </tr>\n",
              "    <tr>\n",
              "      <th>LSTAT</th>\n",
              "      <td>506.0</td>\n",
              "      <td>12.653063</td>\n",
              "      <td>7.141062</td>\n",
              "      <td>1.73000</td>\n",
              "      <td>6.950000</td>\n",
              "      <td>11.36000</td>\n",
              "      <td>16.955000</td>\n",
              "      <td>37.9700</td>\n",
              "    </tr>\n",
              "    <tr>\n",
              "      <th>MEDV</th>\n",
              "      <td>506.0</td>\n",
              "      <td>22.532806</td>\n",
              "      <td>9.197104</td>\n",
              "      <td>5.00000</td>\n",
              "      <td>17.025000</td>\n",
              "      <td>21.20000</td>\n",
              "      <td>25.000000</td>\n",
              "      <td>50.0000</td>\n",
              "    </tr>\n",
              "  </tbody>\n",
              "</table>\n",
              "</div>\n",
              "    <div class=\"colab-df-buttons\">\n",
              "\n",
              "  <div class=\"colab-df-container\">\n",
              "    <button class=\"colab-df-convert\" onclick=\"convertToInteractive('df-3183dfd1-ad25-4718-8edc-d76cddcedd59')\"\n",
              "            title=\"Convert this dataframe to an interactive table.\"\n",
              "            style=\"display:none;\">\n",
              "\n",
              "  <svg xmlns=\"http://www.w3.org/2000/svg\" height=\"24px\" viewBox=\"0 -960 960 960\">\n",
              "    <path d=\"M120-120v-720h720v720H120Zm60-500h600v-160H180v160Zm220 220h160v-160H400v160Zm0 220h160v-160H400v160ZM180-400h160v-160H180v160Zm440 0h160v-160H620v160ZM180-180h160v-160H180v160Zm440 0h160v-160H620v160Z\"/>\n",
              "  </svg>\n",
              "    </button>\n",
              "\n",
              "  <style>\n",
              "    .colab-df-container {\n",
              "      display:flex;\n",
              "      gap: 12px;\n",
              "    }\n",
              "\n",
              "    .colab-df-convert {\n",
              "      background-color: #E8F0FE;\n",
              "      border: none;\n",
              "      border-radius: 50%;\n",
              "      cursor: pointer;\n",
              "      display: none;\n",
              "      fill: #1967D2;\n",
              "      height: 32px;\n",
              "      padding: 0 0 0 0;\n",
              "      width: 32px;\n",
              "    }\n",
              "\n",
              "    .colab-df-convert:hover {\n",
              "      background-color: #E2EBFA;\n",
              "      box-shadow: 0px 1px 2px rgba(60, 64, 67, 0.3), 0px 1px 3px 1px rgba(60, 64, 67, 0.15);\n",
              "      fill: #174EA6;\n",
              "    }\n",
              "\n",
              "    .colab-df-buttons div {\n",
              "      margin-bottom: 4px;\n",
              "    }\n",
              "\n",
              "    [theme=dark] .colab-df-convert {\n",
              "      background-color: #3B4455;\n",
              "      fill: #D2E3FC;\n",
              "    }\n",
              "\n",
              "    [theme=dark] .colab-df-convert:hover {\n",
              "      background-color: #434B5C;\n",
              "      box-shadow: 0px 1px 3px 1px rgba(0, 0, 0, 0.15);\n",
              "      filter: drop-shadow(0px 1px 2px rgba(0, 0, 0, 0.3));\n",
              "      fill: #FFFFFF;\n",
              "    }\n",
              "  </style>\n",
              "\n",
              "    <script>\n",
              "      const buttonEl =\n",
              "        document.querySelector('#df-3183dfd1-ad25-4718-8edc-d76cddcedd59 button.colab-df-convert');\n",
              "      buttonEl.style.display =\n",
              "        google.colab.kernel.accessAllowed ? 'block' : 'none';\n",
              "\n",
              "      async function convertToInteractive(key) {\n",
              "        const element = document.querySelector('#df-3183dfd1-ad25-4718-8edc-d76cddcedd59');\n",
              "        const dataTable =\n",
              "          await google.colab.kernel.invokeFunction('convertToInteractive',\n",
              "                                                    [key], {});\n",
              "        if (!dataTable) return;\n",
              "\n",
              "        const docLinkHtml = 'Like what you see? Visit the ' +\n",
              "          '<a target=\"_blank\" href=https://colab.research.google.com/notebooks/data_table.ipynb>data table notebook</a>'\n",
              "          + ' to learn more about interactive tables.';\n",
              "        element.innerHTML = '';\n",
              "        dataTable['output_type'] = 'display_data';\n",
              "        await google.colab.output.renderOutput(dataTable, element);\n",
              "        const docLink = document.createElement('div');\n",
              "        docLink.innerHTML = docLinkHtml;\n",
              "        element.appendChild(docLink);\n",
              "      }\n",
              "    </script>\n",
              "  </div>\n",
              "\n",
              "\n",
              "<div id=\"df-289683ca-b357-4ae9-b940-1f44cca29a80\">\n",
              "  <button class=\"colab-df-quickchart\" onclick=\"quickchart('df-289683ca-b357-4ae9-b940-1f44cca29a80')\"\n",
              "            title=\"Suggest charts\"\n",
              "            style=\"display:none;\">\n",
              "\n",
              "<svg xmlns=\"http://www.w3.org/2000/svg\" height=\"24px\"viewBox=\"0 0 24 24\"\n",
              "     width=\"24px\">\n",
              "    <g>\n",
              "        <path d=\"M19 3H5c-1.1 0-2 .9-2 2v14c0 1.1.9 2 2 2h14c1.1 0 2-.9 2-2V5c0-1.1-.9-2-2-2zM9 17H7v-7h2v7zm4 0h-2V7h2v10zm4 0h-2v-4h2v4z\"/>\n",
              "    </g>\n",
              "</svg>\n",
              "  </button>\n",
              "\n",
              "<style>\n",
              "  .colab-df-quickchart {\n",
              "      --bg-color: #E8F0FE;\n",
              "      --fill-color: #1967D2;\n",
              "      --hover-bg-color: #E2EBFA;\n",
              "      --hover-fill-color: #174EA6;\n",
              "      --disabled-fill-color: #AAA;\n",
              "      --disabled-bg-color: #DDD;\n",
              "  }\n",
              "\n",
              "  [theme=dark] .colab-df-quickchart {\n",
              "      --bg-color: #3B4455;\n",
              "      --fill-color: #D2E3FC;\n",
              "      --hover-bg-color: #434B5C;\n",
              "      --hover-fill-color: #FFFFFF;\n",
              "      --disabled-bg-color: #3B4455;\n",
              "      --disabled-fill-color: #666;\n",
              "  }\n",
              "\n",
              "  .colab-df-quickchart {\n",
              "    background-color: var(--bg-color);\n",
              "    border: none;\n",
              "    border-radius: 50%;\n",
              "    cursor: pointer;\n",
              "    display: none;\n",
              "    fill: var(--fill-color);\n",
              "    height: 32px;\n",
              "    padding: 0;\n",
              "    width: 32px;\n",
              "  }\n",
              "\n",
              "  .colab-df-quickchart:hover {\n",
              "    background-color: var(--hover-bg-color);\n",
              "    box-shadow: 0 1px 2px rgba(60, 64, 67, 0.3), 0 1px 3px 1px rgba(60, 64, 67, 0.15);\n",
              "    fill: var(--button-hover-fill-color);\n",
              "  }\n",
              "\n",
              "  .colab-df-quickchart-complete:disabled,\n",
              "  .colab-df-quickchart-complete:disabled:hover {\n",
              "    background-color: var(--disabled-bg-color);\n",
              "    fill: var(--disabled-fill-color);\n",
              "    box-shadow: none;\n",
              "  }\n",
              "\n",
              "  .colab-df-spinner {\n",
              "    border: 2px solid var(--fill-color);\n",
              "    border-color: transparent;\n",
              "    border-bottom-color: var(--fill-color);\n",
              "    animation:\n",
              "      spin 1s steps(1) infinite;\n",
              "  }\n",
              "\n",
              "  @keyframes spin {\n",
              "    0% {\n",
              "      border-color: transparent;\n",
              "      border-bottom-color: var(--fill-color);\n",
              "      border-left-color: var(--fill-color);\n",
              "    }\n",
              "    20% {\n",
              "      border-color: transparent;\n",
              "      border-left-color: var(--fill-color);\n",
              "      border-top-color: var(--fill-color);\n",
              "    }\n",
              "    30% {\n",
              "      border-color: transparent;\n",
              "      border-left-color: var(--fill-color);\n",
              "      border-top-color: var(--fill-color);\n",
              "      border-right-color: var(--fill-color);\n",
              "    }\n",
              "    40% {\n",
              "      border-color: transparent;\n",
              "      border-right-color: var(--fill-color);\n",
              "      border-top-color: var(--fill-color);\n",
              "    }\n",
              "    60% {\n",
              "      border-color: transparent;\n",
              "      border-right-color: var(--fill-color);\n",
              "    }\n",
              "    80% {\n",
              "      border-color: transparent;\n",
              "      border-right-color: var(--fill-color);\n",
              "      border-bottom-color: var(--fill-color);\n",
              "    }\n",
              "    90% {\n",
              "      border-color: transparent;\n",
              "      border-bottom-color: var(--fill-color);\n",
              "    }\n",
              "  }\n",
              "</style>\n",
              "\n",
              "  <script>\n",
              "    async function quickchart(key) {\n",
              "      const quickchartButtonEl =\n",
              "        document.querySelector('#' + key + ' button');\n",
              "      quickchartButtonEl.disabled = true;  // To prevent multiple clicks.\n",
              "      quickchartButtonEl.classList.add('colab-df-spinner');\n",
              "      try {\n",
              "        const charts = await google.colab.kernel.invokeFunction(\n",
              "            'suggestCharts', [key], {});\n",
              "      } catch (error) {\n",
              "        console.error('Error during call to suggestCharts:', error);\n",
              "      }\n",
              "      quickchartButtonEl.classList.remove('colab-df-spinner');\n",
              "      quickchartButtonEl.classList.add('colab-df-quickchart-complete');\n",
              "    }\n",
              "    (() => {\n",
              "      let quickchartButtonEl =\n",
              "        document.querySelector('#df-289683ca-b357-4ae9-b940-1f44cca29a80 button');\n",
              "      quickchartButtonEl.style.display =\n",
              "        google.colab.kernel.accessAllowed ? 'block' : 'none';\n",
              "    })();\n",
              "  </script>\n",
              "</div>\n",
              "\n",
              "    </div>\n",
              "  </div>\n"
            ],
            "application/vnd.google.colaboratory.intrinsic+json": {
              "type": "dataframe",
              "summary": "{\n  \"name\": \"data\",\n  \"rows\": 14,\n  \"fields\": [\n    {\n      \"column\": \"count\",\n      \"properties\": {\n        \"dtype\": \"number\",\n        \"std\": 0.0,\n        \"min\": 506.0,\n        \"max\": 506.0,\n        \"num_unique_values\": 1,\n        \"samples\": [\n          506.0\n        ],\n        \"semantic_type\": \"\",\n        \"description\": \"\"\n      }\n    },\n    {\n      \"column\": \"mean\",\n      \"properties\": {\n        \"dtype\": \"number\",\n        \"std\": 135.23563867687596,\n        \"min\": 0.0691699604743083,\n        \"max\": 408.2371541501976,\n        \"num_unique_values\": 14,\n        \"samples\": [\n          408.2371541501976\n        ],\n        \"semantic_type\": \"\",\n        \"description\": \"\"\n      }\n    },\n    {\n      \"column\": \"std\",\n      \"properties\": {\n        \"dtype\": \"number\",\n        \"std\": 47.48004024245451,\n        \"min\": 0.11587767566755611,\n        \"max\": 168.53711605495926,\n        \"num_unique_values\": 14,\n        \"samples\": [\n          168.53711605495926\n        ],\n        \"semantic_type\": \"\",\n        \"description\": \"\"\n      }\n    },\n    {\n      \"column\": \"min\",\n      \"properties\": {\n        \"dtype\": \"number\",\n        \"std\": 49.49294702001572,\n        \"min\": 0.0,\n        \"max\": 187.0,\n        \"num_unique_values\": 13,\n        \"samples\": [\n          1.73\n        ],\n        \"semantic_type\": \"\",\n        \"description\": \"\"\n      }\n    },\n    {\n      \"column\": \"25%\",\n      \"properties\": {\n        \"dtype\": \"number\",\n        \"std\": 117.80260182684655,\n        \"min\": 0.0,\n        \"max\": 375.3775,\n        \"num_unique_values\": 13,\n        \"samples\": [\n          6.949999999999999\n        ],\n        \"semantic_type\": \"\",\n        \"description\": \"\"\n      }\n    },\n    {\n      \"column\": \"50%\",\n      \"properties\": {\n        \"dtype\": \"number\",\n        \"std\": 128.4514808895263,\n        \"min\": 0.0,\n        \"max\": 391.44,\n        \"num_unique_values\": 13,\n        \"samples\": [\n          11.36\n        ],\n        \"semantic_type\": \"\",\n        \"description\": \"\"\n      }\n    },\n    {\n      \"column\": \"75%\",\n      \"properties\": {\n        \"dtype\": \"number\",\n        \"std\": 194.76897918127747,\n        \"min\": 0.0,\n        \"max\": 666.0,\n        \"num_unique_values\": 14,\n        \"samples\": [\n          666.0\n        ],\n        \"semantic_type\": \"\",\n        \"description\": \"\"\n      }\n    },\n    {\n      \"column\": \"max\",\n      \"properties\": {\n        \"dtype\": \"number\",\n        \"std\": 199.6809525583355,\n        \"min\": 0.871,\n        \"max\": 711.0,\n        \"num_unique_values\": 13,\n        \"samples\": [\n          37.97\n        ],\n        \"semantic_type\": \"\",\n        \"description\": \"\"\n      }\n    }\n  ]\n}"
            }
          },
          "metadata": {},
          "execution_count": 7
        }
      ]
    },
    {
      "cell_type": "markdown",
      "source": [
        "kita bisa lihat kalau data kita punya rentang nilai yang beda-beda banget. Ini karena fitur-fitur tersebut diukur dan dicatat dengan unit yang berbeda-beda.\n",
        "\n",
        "Nah, di sini pentingnya feature scaling: supaya semua fitur bisa punya skala yang mirip, biar analisis dan model kita jadi lebih akurat."
      ],
      "metadata": {
        "id": "No_ZIPJ2dOc2"
      }
    },
    {
      "cell_type": "markdown",
      "source": [
        "Normalisasi (Normalisation) atau juga dikenal sebagai min-max scaling, adalah teknik untuk menskala ulang nilai dalam suatu kolom sehingga berada dalam rentang tetap antara 0 dan 1."
      ],
      "metadata": {
        "id": "-wWSLaeWdaz8"
      }
    },
    {
      "cell_type": "code",
      "source": [
        "X = data.drop('MEDV', axis=1)\n",
        "Y = data['MEDV']\n",
        "\n",
        "print(\"X shape: \", X.shape)\n",
        "print(\"Y shape: \", Y.shape)\n"
      ],
      "metadata": {
        "colab": {
          "base_uri": "https://localhost:8080/"
        },
        "id": "d3RjyfuZdBhR",
        "outputId": "abcd0840-e8bf-418a-a081-79ce1e20973d"
      },
      "execution_count": 8,
      "outputs": [
        {
          "output_type": "stream",
          "name": "stdout",
          "text": [
            "X shape:  (506, 13)\n",
            "Y shape:  (506,)\n"
          ]
        }
      ]
    },
    {
      "cell_type": "code",
      "source": [
        "norm = MinMaxScaler()\n",
        "normalised_features = norm.fit_transform(X)\n",
        "normalised_df = pd.DataFrame(normalised_features, index = X.index, columns = X.columns)\n",
        "\n"
      ],
      "metadata": {
        "id": "N1qexumve6aR"
      },
      "execution_count": 9,
      "outputs": []
    },
    {
      "cell_type": "code",
      "source": [
        "fig, ax = plt.subplots(1, 2, figsize=(12, 6))\n",
        "\n",
        "# Sebelum\n",
        "sns.boxplot(x='variable', y='value', data=pd.melt(data[['ZN', 'AGE', 'TAX', 'B']]), ax=ax[0])\n",
        "ax[0].set_title('Sebelum')\n",
        "ax[0].set_xlabel('')\n",
        "ax[0].set_ylabel('')\n",
        "\n",
        "# Sesudah\n",
        "sns.boxplot(x='variable', y='value', data=pd.melt(normalised_df[['ZN', 'AGE', 'TAX', 'B']]), ax=ax[1])\n",
        "ax[1].set_title('Sesudah Normalisasi')\n",
        "ax[1].set_xlabel('')\n",
        "ax[1].set_ylabel('')\n",
        "\n",
        "plt.tight_layout()\n",
        "plt.show()\n"
      ],
      "metadata": {
        "colab": {
          "base_uri": "https://localhost:8080/",
          "height": 384
        },
        "id": "FMvnbVFgjOyO",
        "outputId": "7bc1d8d7-3280-47a2-eeeb-69d586740b09"
      },
      "execution_count": 10,
      "outputs": [
        {
          "output_type": "display_data",
          "data": {
            "text/plain": [
              "<Figure size 1200x600 with 2 Axes>"
            ],
            "image/png": "[encoded data removed]"
          },
          "metadata": {}
        }
      ]
    },
    {
      "cell_type": "markdown",
      "source": [
        "Seperti yang bisa kita lihat, fitur asli kita memiliki rentang yang sangat berbeda.\n",
        "\n",
        "MinMaxScaler telah menskalakan ulang fitur-fitur kita sehingga nilainya berada di antara 0 dan 1."
      ],
      "metadata": {
        "id": "2svkB_y9lBUp"
      }
    },
    {
      "cell_type": "markdown",
      "source": [
        "Setelah kita memahami jenis model yang sensitif dan tidak sensitif terhadap penskalaan fitur, mari kita yakinkan diri dengan contoh konkret menggunakan dataset harga rumah di Boston.\n",
        "\n",
        "Di sini, saya memilih 2 algoritma berbasis jarak (KNN dan SVR) serta 1 algoritma berbasis pohon (decision tree regressor) untuk memprediksi harga rumah.\n",
        "\n",
        "Kita seharusnya melihat peningkatan performa model dengan penskalaan fitur pada KNN dan SVR, dan performa model yang konstan pada decision tree baik dengan atau tanpa penskalaan fitur."
      ],
      "metadata": {
        "id": "F9xc6U2NmiTo"
      }
    },
    {
      "cell_type": "code",
      "source": [
        "# Model\n",
        "knn = KNeighborsRegressor()\n",
        "svr = SVR()\n",
        "tree = DecisionTreeRegressor(max_depth = 10, random_state = 42)\n",
        "\n",
        "# Buat list dengan scaler beragam\n",
        "scalers = [norm]"
      ],
      "metadata": {
        "id": "9x1t6eajlYBl"
      },
      "execution_count": 11,
      "outputs": []
    },
    {
      "cell_type": "markdown",
      "source": [
        "KNeighborsRegressor() → Membuat model K-Nearest Neighbors (KNN) Regression, yang memprediksi nilai berdasarkan rata-rata nilai dari tetangga terdekatnya.\n",
        "SVR() → Membuat model Support Vector Regression (SVR), yang menggunakan Support Vector Machines (SVM) untuk regresi.\n",
        "DecisionTreeRegressor(max_depth=10, random_state=42) → Membuat model Decision Tree Regression, yang membangun pohon keputusan dengan kedalaman maksimal 10 dan random_state=42 untuk hasil yang konsisten.\n",
        "\n"
      ],
      "metadata": {
        "id": "2MQfS-yim21Z"
      }
    },
    {
      "cell_type": "markdown",
      "source": [
        "Bayangkan pohon keputusan seperti permainan 20 pertanyaan.\n",
        "\n",
        "Jika Anda hanya bisa mengajukan 3 pertanyaan (max_depth=3), maka tebakan Anda mungkin masih kasar.\n",
        "Jika Anda bisa bertanya 20 pertanyaan (max_depth=20), Anda bisa menebak dengan sangat spesifik, tapi mungkin malah terlalu rumit.\n",
        "\n",
        "**Analoginya gini:**  \n",
        "\n",
        "Bayangin kamu lagi main game yang ada fitur **random spawn** buat musuhnya. Kalau setiap kali main musuhnya muncul di tempat berbeda, kamu bakal sulit nebak strategi yang pas, kan?  \n",
        "\n",
        "Nah, **`random_state` itu kayak nge-set \"seed\" di game** supaya musuh selalu muncul di tempat yang sama setiap kali kamu main. Jadi, kalau kamu pengen latihan strategi, kamu bisa ulang game itu dengan kondisi yang **selalu sama**, nggak berubah-ubah.  \n",
        "\n",
        "Jadi, **`random_state=42` bikin hasil model kamu tetap sama setiap kali dijalankan**, biar gampang dibandingin dan nggak berubah terus kayak musuh di game yang spawn sembarangan. 🎮🔥"
      ],
      "metadata": {
        "id": "A0IL8HpVnEMO"
      }
    },
    {
      "cell_type": "code",
      "source": [
        "X_train, X_test, Y_train, Y_test = train_test_split(X, Y, test_size = 0.3, random_state = 42)\n",
        "\n",
        "print(\"X_train shape: \", X_train.shape)\n",
        "print(\"Y_train shape: \", Y_train.shape)\n",
        "print(\"X_test shape: \", X_test.shape)\n",
        "print(\"Y_test shape: \", Y_test.shape)"
      ],
      "metadata": {
        "colab": {
          "base_uri": "https://localhost:8080/"
        },
        "id": "LyBqkJP5lngW",
        "outputId": "a1e291f0-855b-4090-f62e-e1144128d852"
      },
      "execution_count": 12,
      "outputs": [
        {
          "output_type": "stream",
          "name": "stdout",
          "text": [
            "X_train shape:  (354, 13)\n",
            "Y_train shape:  (354,)\n",
            "X_test shape:  (152, 13)\n",
            "Y_test shape:  (152,)\n"
          ]
        }
      ]
    },
    {
      "cell_type": "markdown",
      "source": [
        "X → Fitur (independent variables) dalam dataset.\n",
        "Y → Target (dependent variable) yang ingin diprediksi.\n",
        "test_size=0.3 → 30% dari data akan digunakan sebagai data uji, sedangkan 70% sisanya digunakan sebagai data latih."
      ],
      "metadata": {
        "id": "V-xRmlPun54i"
      }
    },
    {
      "cell_type": "code",
      "source": [
        "knn_rmse = []\n",
        "\n",
        "# Tanpa Feature Scaling\n",
        "knn.fit(X_train, Y_train)\n",
        "pred = knn.predict(X_test)\n",
        "knn_rmse.append(np.sqrt(mean_squared_error(Y_test, pred)))\n",
        "\n",
        "# Menerapkan teknik Scaling yang lain dan prediksi pakai KNN\n",
        "for scaler in scalers:\n",
        "    pipe = make_pipeline(scaler, knn)\n",
        "    pipe.fit(X_train, Y_train)\n",
        "    pred = pipe.predict(X_test)\n",
        "    knn_rmse.append(np.sqrt(mean_squared_error(Y_test, pred)))\n",
        "\n",
        "knn_df = pd.DataFrame({'RMSE': knn_rmse}, index=range(len(knn_rmse)))\n",
        "print(knn_df)\n"
      ],
      "metadata": {
        "colab": {
          "base_uri": "https://localhost:8080/"
        },
        "id": "nfha1xwglpfv",
        "outputId": "b806e7fa-b4aa-4c3a-b9bd-743054d64c8a"
      },
      "execution_count": null,
      "outputs": [
        {
          "output_type": "stream",
          "name": "stdout",
          "text": [
            "       RMSE\n",
            "0  5.562872\n",
            "1  4.667070\n"
          ]
        }
      ]
    },
    {
      "cell_type": "markdown",
      "source": [
        "Root Mean Squared Error"
      ],
      "metadata": {
        "id": "Dbwx1xa2oHU7"
      }
    }
  ]
}